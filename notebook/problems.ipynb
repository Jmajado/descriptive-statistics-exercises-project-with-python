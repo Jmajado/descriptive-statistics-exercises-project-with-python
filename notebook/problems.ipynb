{
    "cells": [
        {
            "cell_type": "markdown",
            "id": "ac622319",
            "metadata": {},
            "source": [
                "# Descriptive statistics problems"
            ]
        },
        {
            "cell_type": "markdown",
            "id": "5e0ab0d5",
            "metadata": {},
            "source": [
                "### Exercise 1\n",
                "\n",
                "We will use NumPy to obtain information to describe statistically.\n",
                "\n",
                "- Generate an array of 100 elements following a normal distribution.\n",
                "- Generate an array of 100 elements following a chi-square distribution with 3 degrees of freedom.\n",
                "- Calculate the main metrics and statistical measures that best describe the two vectors."
            ]
        },
        {
            "cell_type": "code",
            "execution_count": 4,
            "id": "34720ab6",
            "metadata": {},
            "outputs": [
                {
                    "name": "stdout",
                    "output_type": "stream",
                    "text": [
                        "vector normal:  [-0.71239066  0.75376638 -0.04450308  0.45181234  1.34510171  0.53233789\n",
                        "  1.3501879   0.86121137  1.47868574 -1.04537713 -0.78898902 -1.26160595\n",
                        "  0.56284679 -0.24332625  0.9137407   0.31735092  0.12730328  2.15038297\n",
                        "  0.60628866 -0.02677165 -0.98416078  1.19070527  0.95283061 -1.08718159\n",
                        " -0.14521133  0.23785784 -1.63909341 -0.27813452  1.39923842 -1.61510796\n",
                        "  0.49087183  1.89274222 -0.6209797  -0.45375238  0.21745166  0.51432886\n",
                        "  0.39724133 -1.51284512 -0.76403397  0.10126979 -0.31726597  1.13833305\n",
                        " -0.32212366 -0.37011608  1.84961257 -0.08165156 -0.98027432 -0.00238903\n",
                        " -0.23242587  0.71097479  0.45315861 -0.33267578 -0.38445769 -0.53032741\n",
                        "  1.350306    2.01522083 -0.05753239  0.56465429  0.3595323  -0.51196509\n",
                        " -0.52316421 -0.48137142 -1.92415945 -0.75745323  0.45348104  0.92234415\n",
                        " -0.2073497  -0.37591996  0.63988397  2.05369324 -0.92833523 -0.77466003\n",
                        " -0.43714566  0.54791831 -0.85414295  0.46565797 -0.72099967  0.56226171\n",
                        " -0.31485808 -0.42989708  0.81499544 -1.18541881 -0.76862702  0.72916547\n",
                        "  0.76591105  0.20780005 -2.18711527  0.72196506  0.34875059 -0.33861825\n",
                        " -1.94539068  0.83090566  1.74924179  0.50113729  1.33031692 -0.65751727\n",
                        "  0.18494595 -0.65105648 -1.12050687 -0.34660679]\n",
                        "vector chi_square [0.86639434 1.06415526 1.75801383 2.61804771 0.19717181 2.45572181\n",
                        " 1.67128096 5.56828757 1.34055856 3.02274352 2.6578622  4.88581207\n",
                        " 3.31032493 1.04070375 3.33215181 0.91590459 1.80777942 0.84315323\n",
                        " 2.02072602 0.55154647 5.20278609 1.20058965 3.59205792 4.93837605\n",
                        " 0.07570567 1.56632428 4.23840624 0.82760276 3.20070663 1.50895319\n",
                        " 2.86216814 1.15731759 1.39845293 1.1426779  2.684215   2.9864608\n",
                        " 0.71609781 0.79443298 1.0497043  1.39464345 1.41444075 5.00445978\n",
                        " 5.91948974 0.6952364  1.3576402  4.75687029 1.29442153 0.94649865\n",
                        " 4.39764118 1.82923883 3.51775013 2.18047601 6.28864874 2.93434022\n",
                        " 1.50361097 5.0650106  2.37674189 4.73758314 1.73420803 2.4240201\n",
                        " 3.6620981  0.51913532 0.41768529 2.61794807 0.24063521 2.37239516\n",
                        " 2.08911996 5.61079246 0.98019941 0.83921838 2.14815072 1.63569253\n",
                        " 3.17459204 3.51288963 2.01269051 0.384748   5.00991821 5.04822585\n",
                        " 1.96895481 0.34723434 2.11738292 0.69242502 1.39027489 0.53485689\n",
                        " 3.59527914 4.656226   0.71511369 1.72855111 1.77183633 2.67268143\n",
                        " 2.96049447 4.79197468 3.42100097 0.70399599 2.20764226 3.91042472\n",
                        " 0.43200052 6.43748991 4.07204039 4.59920582]\n"
                    ]
                }
            ],
            "source": [
                "# TODO\n",
                "import numpy as np\n",
                "import statistics as stats\n",
                "from scipy.stats import skew\n",
                "from scipy.stats import kurtosis\n",
                "np.random.seed(13)\n",
                "normal = np.random.normal(size = 100)\n",
                "chi_square = np.random.chisquare(3, 100)\n",
                "print(f'vector normal: ', normal)\n",
                "print(f'vector chi_square', chi_square)\n",
                "\n",
                "\n",
                "\n",
                "\n"
            ]
        },
        {
            "cell_type": "code",
            "execution_count": 5,
            "id": "76179778",
            "metadata": {},
            "outputs": [
                {
                    "name": "stdout",
                    "output_type": "stream",
                    "text": [
                        "mean normal:  0.058407391146876916\n",
                        "mean chi:  2.4284756759179507\n",
                        "median normal:  -0.01458033779347764\n",
                        "median chi:  2.054922985683459\n",
                        "mode normal:  -0.712390662050588\n",
                        "mode chi 0.8663943377237896\n",
                        "range normal:  4.337498240628445\n",
                        "range chi 6.361784249342817\n",
                        "variance normal:  0.8772231261613436\n",
                        "variance chi 2.65249701292236\n",
                        "std normal:  0.9366019037784109\n",
                        "std chi:  1.6286488304488356\n",
                        "skewness_normal:  0.054841365349443345\n",
                        "variance chi 2.65249701292236\n",
                        "kurt_normal:  -0.2972914707143923\n",
                        "kurt_chi:  -0.6198026725465704\n"
                    ]
                }
            ],
            "source": [
                "mean_normal = stats.mean(normal)\n",
                "mean_chi = stats.mean(chi_square)\n",
                "median_normal = stats.median(normal)\n",
                "median_chi = stats.median(chi_square)\n",
                "mode_normal = stats.mode(normal)\n",
                "mode_chi = stats.mode(chi_square)\n",
                "range_normal = max(normal) - min(normal)\n",
                "range_chi = max(chi_square) - min(chi_square)\n",
                "variance_normal = stats.variance(normal)\n",
                "variance_chi = stats.variance(chi_square)\n",
                "std_normal = stats.stdev(normal)\n",
                "std_chi = stats.stdev(chi_square)\n",
                "skewness_normal = skew(normal)\n",
                "skewness_chi = skew(chi_square)\n",
                "kurt_normal = kurtosis(normal)\n",
                "kurt_chi = kurtosis (chi_square)\n",
                "print(f'mean normal: ', mean_normal)\n",
                "print(f'mean chi: ', mean_chi)\n",
                "print(f'median normal: ', median_normal)\n",
                "print(f'median chi: ', median_chi)\n",
                "print(f'mode normal: ', mode_normal)\n",
                "print(f'mode chi', mode_chi)\n",
                "print(f'range normal: ', range_normal)\n",
                "print(f'range chi', range_chi)\n",
                "print(f'variance normal: ', variance_normal)\n",
                "print(f'variance chi', variance_chi)\n",
                "print(f'std normal: ', std_normal)\n",
                "print(f'std chi: ', std_chi)\n",
                "print(f'skewness_normal: ', skewness_normal)\n",
                "print(f'variance chi', variance_chi)\n",
                "print(f'kurt_normal: ', kurt_normal)\n",
                "print(f'kurt_chi: ', kurt_chi)"
            ]
        },
        {
            "cell_type": "markdown",
            "id": "46c70c3d",
            "metadata": {},
            "source": [
                "### Exercise 2\n",
                "\n",
                "Write a Python program to calculate the standard deviation of the following data:\n",
                "\n",
                "```py\n",
                "data = [4, 2, 5, 8, 6]\n",
                "```"
            ]
        },
        {
            "cell_type": "code",
            "execution_count": 1,
            "id": "d590308e",
            "metadata": {},
            "outputs": [
                {
                    "name": "stdout",
                    "output_type": "stream",
                    "text": [
                        "Desviación estándar: 2.23606797749979\n"
                    ]
                }
            ],
            "source": [
                "# TODO\n",
                "import math\n",
                "data = [4, 2, 5, 8, 6]\n",
                "def desviacion(data):\n",
                "    n = len(data)\n",
                "    media = sum(data) / n\n",
                "    varianza_muestral = sum((x - media) ** 2 for x in data) / (n - 1)\n",
                "    return math.sqrt(varianza_muestral)\n",
                "desviacion_standard = desviacion(data)\n",
                "print(f\"Desviación estándar: {desviacion_standard}\")"
            ]
        }
    ],
    "metadata": {
        "kernelspec": {
            "display_name": "Python 3",
            "language": "python",
            "name": "python3"
        },
        "language_info": {
            "codemirror_mode": {
                "name": "ipython",
                "version": 3
            },
            "file_extension": ".py",
            "mimetype": "text/x-python",
            "name": "python",
            "nbconvert_exporter": "python",
            "pygments_lexer": "ipython3",
            "version": "3.11.4"
        }
    },
    "nbformat": 4,
    "nbformat_minor": 5
}
